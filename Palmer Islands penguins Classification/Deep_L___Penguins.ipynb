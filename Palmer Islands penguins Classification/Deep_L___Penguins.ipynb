{
  "nbformat": 4,
  "nbformat_minor": 0,
  "metadata": {
    "colab": {
      "provenance": []
    },
    "kernelspec": {
      "name": "python3",
      "display_name": "Python 3"
    },
    "language_info": {
      "name": "python"
    }
  },
  "cells": [
    {
      "cell_type": "markdown",
      "source": [
        "DEEP LEARNING WITH PYTORCH AND TENSORFLOW"
      ],
      "metadata": {
        "id": "cW9Fp5anslW2"
      }
    },
    {
      "cell_type": "code",
      "execution_count": null,
      "metadata": {
        "id": "Z3orMXTPAqt9",
        "colab": {
          "base_uri": "https://localhost:8080/",
          "height": 554
        },
        "outputId": "3302bdec-a5fe-4487-9498-f6d0982237ea"
      },
      "outputs": [
        {
          "output_type": "stream",
          "name": "stdout",
          "text": [
            "--2023-01-29 05:57:17--  https://raw.githubusercontent.com/MicrosoftDocs/mslearn-introduction-to-machine-learning/main/Data/ml-basics/penguins.csv\n",
            "Resolving raw.githubusercontent.com (raw.githubusercontent.com)... 185.199.108.133, 185.199.109.133, 185.199.110.133, ...\n",
            "Connecting to raw.githubusercontent.com (raw.githubusercontent.com)|185.199.108.133|:443... connected.\n",
            "HTTP request sent, awaiting response... 200 OK\n",
            "Length: 7086 (6.9K) [text/plain]\n",
            "Saving to: ‘penguins.csv.1’\n",
            "\n",
            "\rpenguins.csv.1        0%[                    ]       0  --.-KB/s               \rpenguins.csv.1      100%[===================>]   6.92K  --.-KB/s    in 0s      \n",
            "\n",
            "2023-01-29 05:57:17 (66.2 MB/s) - ‘penguins.csv.1’ saved [7086/7086]\n",
            "\n"
          ]
        },
        {
          "output_type": "execute_result",
          "data": {
            "text/plain": [
              "     CulmenLength  CulmenDepth  FlipperLength  BodyMass  Species\n",
              "100          35.0         17.9           19.2     37.25        0\n",
              "142          32.1         15.5           18.8     30.50        0\n",
              "43           44.1         19.7           19.6     44.00        0\n",
              "191          48.7         15.7           20.8     53.50        1\n",
              "27           40.5         17.9           18.7     32.00        0\n",
              "159          46.7         15.3           21.9     52.00        1\n",
              "71           39.7         18.4           19.0     39.00        0\n",
              "296          42.4         17.3           18.1     36.00        2\n",
              "283          51.3         18.2           19.7     37.50        2\n",
              "188          42.6         13.7           21.3     49.50        1"
            ],
            "text/html": [
              "\n",
              "  <div id=\"df-e985c12d-aea3-4d3b-8243-dddffbf17c7b\">\n",
              "    <div class=\"colab-df-container\">\n",
              "      <div>\n",
              "<style scoped>\n",
              "    .dataframe tbody tr th:only-of-type {\n",
              "        vertical-align: middle;\n",
              "    }\n",
              "\n",
              "    .dataframe tbody tr th {\n",
              "        vertical-align: top;\n",
              "    }\n",
              "\n",
              "    .dataframe thead th {\n",
              "        text-align: right;\n",
              "    }\n",
              "</style>\n",
              "<table border=\"1\" class=\"dataframe\">\n",
              "  <thead>\n",
              "    <tr style=\"text-align: right;\">\n",
              "      <th></th>\n",
              "      <th>CulmenLength</th>\n",
              "      <th>CulmenDepth</th>\n",
              "      <th>FlipperLength</th>\n",
              "      <th>BodyMass</th>\n",
              "      <th>Species</th>\n",
              "    </tr>\n",
              "  </thead>\n",
              "  <tbody>\n",
              "    <tr>\n",
              "      <th>100</th>\n",
              "      <td>35.0</td>\n",
              "      <td>17.9</td>\n",
              "      <td>19.2</td>\n",
              "      <td>37.25</td>\n",
              "      <td>0</td>\n",
              "    </tr>\n",
              "    <tr>\n",
              "      <th>142</th>\n",
              "      <td>32.1</td>\n",
              "      <td>15.5</td>\n",
              "      <td>18.8</td>\n",
              "      <td>30.50</td>\n",
              "      <td>0</td>\n",
              "    </tr>\n",
              "    <tr>\n",
              "      <th>43</th>\n",
              "      <td>44.1</td>\n",
              "      <td>19.7</td>\n",
              "      <td>19.6</td>\n",
              "      <td>44.00</td>\n",
              "      <td>0</td>\n",
              "    </tr>\n",
              "    <tr>\n",
              "      <th>191</th>\n",
              "      <td>48.7</td>\n",
              "      <td>15.7</td>\n",
              "      <td>20.8</td>\n",
              "      <td>53.50</td>\n",
              "      <td>1</td>\n",
              "    </tr>\n",
              "    <tr>\n",
              "      <th>27</th>\n",
              "      <td>40.5</td>\n",
              "      <td>17.9</td>\n",
              "      <td>18.7</td>\n",
              "      <td>32.00</td>\n",
              "      <td>0</td>\n",
              "    </tr>\n",
              "    <tr>\n",
              "      <th>159</th>\n",
              "      <td>46.7</td>\n",
              "      <td>15.3</td>\n",
              "      <td>21.9</td>\n",
              "      <td>52.00</td>\n",
              "      <td>1</td>\n",
              "    </tr>\n",
              "    <tr>\n",
              "      <th>71</th>\n",
              "      <td>39.7</td>\n",
              "      <td>18.4</td>\n",
              "      <td>19.0</td>\n",
              "      <td>39.00</td>\n",
              "      <td>0</td>\n",
              "    </tr>\n",
              "    <tr>\n",
              "      <th>296</th>\n",
              "      <td>42.4</td>\n",
              "      <td>17.3</td>\n",
              "      <td>18.1</td>\n",
              "      <td>36.00</td>\n",
              "      <td>2</td>\n",
              "    </tr>\n",
              "    <tr>\n",
              "      <th>283</th>\n",
              "      <td>51.3</td>\n",
              "      <td>18.2</td>\n",
              "      <td>19.7</td>\n",
              "      <td>37.50</td>\n",
              "      <td>2</td>\n",
              "    </tr>\n",
              "    <tr>\n",
              "      <th>188</th>\n",
              "      <td>42.6</td>\n",
              "      <td>13.7</td>\n",
              "      <td>21.3</td>\n",
              "      <td>49.50</td>\n",
              "      <td>1</td>\n",
              "    </tr>\n",
              "  </tbody>\n",
              "</table>\n",
              "</div>\n",
              "      <button class=\"colab-df-convert\" onclick=\"convertToInteractive('df-e985c12d-aea3-4d3b-8243-dddffbf17c7b')\"\n",
              "              title=\"Convert this dataframe to an interactive table.\"\n",
              "              style=\"display:none;\">\n",
              "        \n",
              "  <svg xmlns=\"http://www.w3.org/2000/svg\" height=\"24px\"viewBox=\"0 0 24 24\"\n",
              "       width=\"24px\">\n",
              "    <path d=\"M0 0h24v24H0V0z\" fill=\"none\"/>\n",
              "    <path d=\"M18.56 5.44l.94 2.06.94-2.06 2.06-.94-2.06-.94-.94-2.06-.94 2.06-2.06.94zm-11 1L8.5 8.5l.94-2.06 2.06-.94-2.06-.94L8.5 2.5l-.94 2.06-2.06.94zm10 10l.94 2.06.94-2.06 2.06-.94-2.06-.94-.94-2.06-.94 2.06-2.06.94z\"/><path d=\"M17.41 7.96l-1.37-1.37c-.4-.4-.92-.59-1.43-.59-.52 0-1.04.2-1.43.59L10.3 9.45l-7.72 7.72c-.78.78-.78 2.05 0 2.83L4 21.41c.39.39.9.59 1.41.59.51 0 1.02-.2 1.41-.59l7.78-7.78 2.81-2.81c.8-.78.8-2.07 0-2.86zM5.41 20L4 18.59l7.72-7.72 1.47 1.35L5.41 20z\"/>\n",
              "  </svg>\n",
              "      </button>\n",
              "      \n",
              "  <style>\n",
              "    .colab-df-container {\n",
              "      display:flex;\n",
              "      flex-wrap:wrap;\n",
              "      gap: 12px;\n",
              "    }\n",
              "\n",
              "    .colab-df-convert {\n",
              "      background-color: #E8F0FE;\n",
              "      border: none;\n",
              "      border-radius: 50%;\n",
              "      cursor: pointer;\n",
              "      display: none;\n",
              "      fill: #1967D2;\n",
              "      height: 32px;\n",
              "      padding: 0 0 0 0;\n",
              "      width: 32px;\n",
              "    }\n",
              "\n",
              "    .colab-df-convert:hover {\n",
              "      background-color: #E2EBFA;\n",
              "      box-shadow: 0px 1px 2px rgba(60, 64, 67, 0.3), 0px 1px 3px 1px rgba(60, 64, 67, 0.15);\n",
              "      fill: #174EA6;\n",
              "    }\n",
              "\n",
              "    [theme=dark] .colab-df-convert {\n",
              "      background-color: #3B4455;\n",
              "      fill: #D2E3FC;\n",
              "    }\n",
              "\n",
              "    [theme=dark] .colab-df-convert:hover {\n",
              "      background-color: #434B5C;\n",
              "      box-shadow: 0px 1px 3px 1px rgba(0, 0, 0, 0.15);\n",
              "      filter: drop-shadow(0px 1px 2px rgba(0, 0, 0, 0.3));\n",
              "      fill: #FFFFFF;\n",
              "    }\n",
              "  </style>\n",
              "\n",
              "      <script>\n",
              "        const buttonEl =\n",
              "          document.querySelector('#df-e985c12d-aea3-4d3b-8243-dddffbf17c7b button.colab-df-convert');\n",
              "        buttonEl.style.display =\n",
              "          google.colab.kernel.accessAllowed ? 'block' : 'none';\n",
              "\n",
              "        async function convertToInteractive(key) {\n",
              "          const element = document.querySelector('#df-e985c12d-aea3-4d3b-8243-dddffbf17c7b');\n",
              "          const dataTable =\n",
              "            await google.colab.kernel.invokeFunction('convertToInteractive',\n",
              "                                                     [key], {});\n",
              "          if (!dataTable) return;\n",
              "\n",
              "          const docLinkHtml = 'Like what you see? Visit the ' +\n",
              "            '<a target=\"_blank\" href=https://colab.research.google.com/notebooks/data_table.ipynb>data table notebook</a>'\n",
              "            + ' to learn more about interactive tables.';\n",
              "          element.innerHTML = '';\n",
              "          dataTable['output_type'] = 'display_data';\n",
              "          await google.colab.output.renderOutput(dataTable, element);\n",
              "          const docLink = document.createElement('div');\n",
              "          docLink.innerHTML = docLinkHtml;\n",
              "          element.appendChild(docLink);\n",
              "        }\n",
              "      </script>\n",
              "    </div>\n",
              "  </div>\n",
              "  "
            ]
          },
          "metadata": {},
          "execution_count": 2
        }
      ],
      "source": [
        "import pandas as pd\n",
        "!wget https://raw.githubusercontent.com/MicrosoftDocs/mslearn-introduction-to-machine-learning/main/Data/ml-basics/penguins.csv\n",
        "# load the training dataset (excluding rows with null values)\n",
        "penguins = pd.read_csv('penguins.csv').dropna()\n",
        "\n",
        "# Deep Learning models work best when features are on similar scales\n",
        "# In a real solution, we'd implement some custom normalization for each feature, but to keep things simple\n",
        "# we'll just rescale the FlipperLength and BodyMass so they're on a similar scale to the bill measurements\n",
        "penguins['FlipperLength'] = penguins['FlipperLength']/10\n",
        "penguins['BodyMass'] = penguins['BodyMass']/100\n",
        "\n",
        "# The dataset is too small to be useful for deep learning\n",
        "# So we'll oversample it to increase its size\n",
        "for i in range(1,3):\n",
        "    penguins = penguins.append(penguins)\n",
        "\n",
        "# Display a random sample of 10 observations\n",
        "sample = penguins.sample(10)\n",
        "sample"
      ]
    },
    {
      "cell_type": "markdown",
      "source": [
        "The Species column is the label our model will predict. Each label value represents a class of penguin species, encoded as 0, 1, or 2"
      ],
      "metadata": {
        "id": "CWYLr0QGGsk2"
      }
    },
    {
      "cell_type": "code",
      "source": [
        "penguin_classes = ['Adelie', 'Gentoo', 'Chinstrap']\n",
        "print(sample.columns[0:5].values, 'SpeciesName')\n",
        "for index, row in penguins.sample(10).iterrows():\n",
        "    print('[',row[0], row[1], row[2],row[3], int(row[4]), ']',penguin_classes[int(row[-1])])"
      ],
      "metadata": {
        "colab": {
          "base_uri": "https://localhost:8080/"
        },
        "id": "gtrZ9uo-GrdK",
        "outputId": "288e78d8-0a5b-4027-d910-e04e16070495"
      },
      "execution_count": null,
      "outputs": [
        {
          "output_type": "stream",
          "name": "stdout",
          "text": [
            "['CulmenLength' 'CulmenDepth' 'FlipperLength' 'BodyMass' 'Species'] SpeciesName\n",
            "[ 47.5 14.0 21.2 48.75 1 ] Gentoo\n",
            "[ 43.2 19.0 19.7 47.75 0 ] Adelie\n",
            "[ 36.2 17.3 18.7 33.0 0 ] Adelie\n",
            "[ 38.6 17.0 18.8 29.0 0 ] Adelie\n",
            "[ 48.5 17.5 19.1 34.0 2 ] Chinstrap\n",
            "[ 49.5 19.0 20.0 38.0 2 ] Chinstrap\n",
            "[ 46.8 14.3 21.5 48.5 1 ] Gentoo\n",
            "[ 35.3 18.9 18.7 38.0 0 ] Adelie\n",
            "[ 50.0 15.2 21.8 57.0 1 ] Gentoo\n",
            "[ 42.6 13.7 21.3 49.5 1 ] Gentoo\n"
          ]
        }
      ]
    },
    {
      "cell_type": "code",
      "source": [
        "from sklearn.model_selection import train_test_split\n",
        "\n",
        "features = ['CulmenLength','CulmenDepth','FlipperLength','BodyMass']\n",
        "label = 'Species'\n",
        "   \n",
        "# Split data 70%-30% into training set and test set\n",
        "x_train, x_test, y_train, y_test = train_test_split(penguins[features].values,\n",
        "                                                    penguins[label].values,\n",
        "                                                    test_size=0.30,\n",
        "                                                    random_state=0)\n",
        "\n",
        "print ('Training Set: %d, Test Set: %d \\n' % (len(x_train), len(x_test)))\n",
        "print(\"Sample of features and labels:\")\n",
        "\n",
        "# Take a look at the first 25 training features and corresponding labels\n",
        "for n in range(0,24):\n",
        "    print(x_train[n], y_train[n], '(' + penguin_classes[y_train[n]] + ')')"
      ],
      "metadata": {
        "colab": {
          "base_uri": "https://localhost:8080/"
        },
        "id": "bDmxcbcaHYZ8",
        "outputId": "62794139-7169-4ce9-b1ae-3e2134fa1514"
      },
      "execution_count": null,
      "outputs": [
        {
          "output_type": "stream",
          "name": "stdout",
          "text": [
            "Training Set: 957, Test Set: 411 \n",
            "\n",
            "Sample of features and labels:\n",
            "[51.1 16.5 22.5 52.5] 1 (Gentoo)\n",
            "[50.7 19.7 20.3 40.5] 2 (Chinstrap)\n",
            "[49.5 16.2 22.9 58. ] 1 (Gentoo)\n",
            "[39.3 20.6 19.  36.5] 0 (Adelie)\n",
            "[42.5 20.7 19.7 45. ] 0 (Adelie)\n",
            "[50.  15.3 22.  55.5] 1 (Gentoo)\n",
            "[50.2  18.7  19.8  37.75] 2 (Chinstrap)\n",
            "[50.7 19.7 20.3 40.5] 2 (Chinstrap)\n",
            "[49.1  14.5  21.2  46.25] 1 (Gentoo)\n",
            "[43.2 16.6 18.7 29. ] 2 (Chinstrap)\n",
            "[38.8  17.6  19.1  32.75] 0 (Adelie)\n",
            "[37.8 17.1 18.6 33. ] 0 (Adelie)\n",
            "[45.8 14.2 21.9 47. ] 1 (Gentoo)\n",
            "[43.8 13.9 20.8 43. ] 1 (Gentoo)\n",
            "[36.  17.1 18.7 37. ] 0 (Adelie)\n",
            "[43.3 13.4 20.9 44. ] 1 (Gentoo)\n",
            "[36.  18.5 18.6 31. ] 0 (Adelie)\n",
            "[41.1  19.   18.2  34.25] 0 (Adelie)\n",
            "[33.1 16.1 17.8 29. ] 0 (Adelie)\n",
            "[40.9 13.7 21.4 46.5] 1 (Gentoo)\n",
            "[45.2 17.8 19.8 39.5] 2 (Chinstrap)\n",
            "[48.4 14.6 21.3 58.5] 1 (Gentoo)\n",
            "[43.6 13.9 21.7 49. ] 1 (Gentoo)\n",
            "[38.5  17.9  19.   33.25] 0 (Adelie)\n"
          ]
        }
      ]
    },
    {
      "cell_type": "markdown",
      "source": [
        "Install and import the PyTorch libraries\n"
      ],
      "metadata": {
        "id": "x_xH3v5IHmJl"
      }
    },
    {
      "cell_type": "code",
      "source": [
        "!pip install torch==1.9.0+cpu torchvision==0.10.0+cpu torchaudio==0.9.0 -f https://download.pytorch.org/whl/torch_stable.html"
      ],
      "metadata": {
        "colab": {
          "base_uri": "https://localhost:8080/"
        },
        "id": "Qhbhjjj0Hngl",
        "outputId": "c5473cdd-0fc4-4355-a5b2-dfe3d638da19"
      },
      "execution_count": null,
      "outputs": [
        {
          "output_type": "stream",
          "name": "stdout",
          "text": [
            "Looking in indexes: https://pypi.org/simple, https://us-python.pkg.dev/colab-wheels/public/simple/\n",
            "Looking in links: https://download.pytorch.org/whl/torch_stable.html\n",
            "Collecting torch==1.9.0+cpu\n",
            "  Downloading https://download.pytorch.org/whl/cpu/torch-1.9.0%2Bcpu-cp38-cp38-linux_x86_64.whl (175.5 MB)\n",
            "\u001b[2K     \u001b[90m━━━━━━━━━━━━━━━━━━━━━━━━━━━━━━━━━━━━━━━\u001b[0m \u001b[32m175.5/175.5 MB\u001b[0m \u001b[31m6.5 MB/s\u001b[0m eta \u001b[36m0:00:00\u001b[0m\n",
            "\u001b[?25hCollecting torchvision==0.10.0+cpu\n",
            "  Downloading https://download.pytorch.org/whl/cpu/torchvision-0.10.0%2Bcpu-cp38-cp38-linux_x86_64.whl (15.7 MB)\n",
            "\u001b[2K     \u001b[90m━━━━━━━━━━━━━━━━━━━━━━━━━━━━━━━━━━━━━━━━\u001b[0m \u001b[32m15.7/15.7 MB\u001b[0m \u001b[31m55.2 MB/s\u001b[0m eta \u001b[36m0:00:00\u001b[0m\n",
            "\u001b[?25hCollecting torchaudio==0.9.0\n",
            "  Downloading torchaudio-0.9.0-cp38-cp38-manylinux1_x86_64.whl (1.9 MB)\n",
            "\u001b[2K     \u001b[90m━━━━━━━━━━━━━━━━━━━━━━━━━━━━━━━━━━━━━━━━\u001b[0m \u001b[32m1.9/1.9 MB\u001b[0m \u001b[31m26.3 MB/s\u001b[0m eta \u001b[36m0:00:00\u001b[0m\n",
            "\u001b[?25hRequirement already satisfied: typing-extensions in /usr/local/lib/python3.8/dist-packages (from torch==1.9.0+cpu) (4.4.0)\n",
            "Requirement already satisfied: numpy in /usr/local/lib/python3.8/dist-packages (from torchvision==0.10.0+cpu) (1.21.6)\n",
            "Requirement already satisfied: pillow>=5.3.0 in /usr/local/lib/python3.8/dist-packages (from torchvision==0.10.0+cpu) (7.1.2)\n",
            "Installing collected packages: torch, torchvision, torchaudio\n",
            "  Attempting uninstall: torch\n",
            "    Found existing installation: torch 1.13.1+cu116\n",
            "    Uninstalling torch-1.13.1+cu116:\n",
            "      Successfully uninstalled torch-1.13.1+cu116\n",
            "  Attempting uninstall: torchvision\n",
            "    Found existing installation: torchvision 0.14.1+cu116\n",
            "    Uninstalling torchvision-0.14.1+cu116:\n",
            "      Successfully uninstalled torchvision-0.14.1+cu116\n",
            "  Attempting uninstall: torchaudio\n",
            "    Found existing installation: torchaudio 0.13.1+cu116\n",
            "    Uninstalling torchaudio-0.13.1+cu116:\n",
            "      Successfully uninstalled torchaudio-0.13.1+cu116\n",
            "\u001b[31mERROR: pip's dependency resolver does not currently take into account all the packages that are installed. This behaviour is the source of the following dependency conflicts.\n",
            "torchtext 0.14.1 requires torch==1.13.1, but you have torch 1.9.0+cpu which is incompatible.\u001b[0m\u001b[31m\n",
            "\u001b[0mSuccessfully installed torch-1.9.0+cpu torchaudio-0.9.0 torchvision-0.10.0+cpu\n"
          ]
        }
      ]
    },
    {
      "cell_type": "code",
      "source": [
        "import torch\n",
        "import torch.nn as nn\n",
        "import torch.utils.data as td\n",
        "\n",
        "# Set random seed for reproducability\n",
        "torch.manual_seed(0)\n",
        "\n",
        "print(\"Libraries imported - ready to use PyTorch\", torch.__version__)"
      ],
      "metadata": {
        "colab": {
          "base_uri": "https://localhost:8080/"
        },
        "id": "eLxxlwCDIDNJ",
        "outputId": "c9665e00-1977-4379-86d8-99e2c62fad38"
      },
      "execution_count": null,
      "outputs": [
        {
          "output_type": "stream",
          "name": "stdout",
          "text": [
            "Libraries imported - ready to use PyTorch 1.9.0+cpu\n"
          ]
        }
      ]
    },
    {
      "cell_type": "markdown",
      "source": [
        "# Prepare the data for PyTorch\n",
        "PyTorch makes use of data loaders to load training and validation data in batches. We've already loaded the data into numpy arrays, but we need to wrap those in PyTorch datasets (in which the data is converted to PyTorch tensor objects) and create loaders to read batches from those datasets."
      ],
      "metadata": {
        "id": "_n-lsPtEJq1a"
      }
    },
    {
      "cell_type": "code",
      "source": [
        "# Create a dataset and loader for the training data and labels\n",
        "train_x = torch.Tensor(x_train).float()\n",
        "train_y = torch.Tensor(y_train).long()\n",
        "train_ds = td.TensorDataset(train_x,train_y)\n",
        "train_loader = td.DataLoader(train_ds, batch_size=20,\n",
        "    shuffle=False, num_workers=1)\n",
        "\n",
        "# Create a dataset and loader for the test data and labels\n",
        "test_x = torch.Tensor(x_test).float()\n",
        "test_y = torch.Tensor(y_test).long()\n",
        "test_ds = td.TensorDataset(test_x,test_y)\n",
        "test_loader = td.DataLoader(test_ds, batch_size=20,\n",
        "    shuffle=False, num_workers=1)\n",
        "print('Ready to load data')"
      ],
      "metadata": {
        "colab": {
          "base_uri": "https://localhost:8080/"
        },
        "id": "6BHKajZKJN_m",
        "outputId": "548c00cb-5a98-45de-cb3c-b68120a61348"
      },
      "execution_count": null,
      "outputs": [
        {
          "output_type": "stream",
          "name": "stdout",
          "text": [
            "Ready to load data\n"
          ]
        }
      ]
    },
    {
      "cell_type": "markdown",
      "source": [
        "Define a neural network\n",
        "Now we're ready to define our neural network. In this case, we'll create a network that consists of 3 fully-connected layers:\n",
        "\n",
        "-An input layer that receives an input value for each feature (in this case, the four penguin measurements) and applies a ReLU activation function.\n",
        "\n",
        "-A hidden layer that receives ten inputs and applies a ReLU activation function\n",
        "\n",
        "-An output layer that generates a non-negative numeric output for each penguin species (which a loss function will translate into classification probabilities for each of the three possible penguin species).\n"
      ],
      "metadata": {
        "id": "QPSGmkAOJ2iK"
      }
    },
    {
      "cell_type": "code",
      "source": [
        "# Number of hidden layer nodes\n",
        "hl = 10\n",
        "\n",
        "# Define the neural network\n",
        "class PenguinNet(nn.Module):\n",
        "    def __init__(self):\n",
        "        super(PenguinNet, self).__init__()\n",
        "        self.fc1 = nn.Linear(len(features), hl)\n",
        "        self.fc2 = nn.Linear(hl, hl)\n",
        "        self.fc3 = nn.Linear(hl, len(penguin_classes))\n",
        "\n",
        "    def forward(self, x):\n",
        "        x = torch.relu(self.fc1(x))\n",
        "        x = torch.relu(self.fc2(x))\n",
        "        x = torch.relu(self.fc3(x))\n",
        "        return x\n",
        "\n",
        "# Create a model instance from the network\n",
        "model = PenguinNet()\n",
        "print(model)"
      ],
      "metadata": {
        "colab": {
          "base_uri": "https://localhost:8080/"
        },
        "id": "JTG0SofAJ9lT",
        "outputId": "c01493ff-e9df-4287-cc7e-2fa4fcb3338f"
      },
      "execution_count": null,
      "outputs": [
        {
          "output_type": "stream",
          "name": "stdout",
          "text": [
            "PenguinNet(\n",
            "  (fc1): Linear(in_features=4, out_features=10, bias=True)\n",
            "  (fc2): Linear(in_features=10, out_features=10, bias=True)\n",
            "  (fc3): Linear(in_features=10, out_features=3, bias=True)\n",
            ")\n"
          ]
        }
      ]
    },
    {
      "cell_type": "markdown",
      "source": [
        "# Train the model\n",
        "To train the model, we need to repeatedly feed the training values forward through the network, use a loss function to calculate the loss, use an optimizer to backpropagate the weight and bias value adjustments, and validate the model using the test data we withheld.\n",
        "\n",
        "To do this, we'll create a function to train and optimize the model, and function to test the model. Then we'll call these functions iteratively over 50 epochs, logging the loss and accuracy statistics for each epoch."
      ],
      "metadata": {
        "id": "M_Kp_4liNqX6"
      }
    },
    {
      "cell_type": "code",
      "source": [
        "def train(model, data_loader, optimizer):\n",
        "    # Set the model to training mode\n",
        "    model.train()\n",
        "    train_loss = 0\n",
        "    \n",
        "    for batch, tensor in enumerate(data_loader):\n",
        "        data, target = tensor\n",
        "        #feedforward\n",
        "        optimizer.zero_grad()\n",
        "        out = model(data)\n",
        "        loss = loss_criteria(out, target)\n",
        "        train_loss += loss.item()\n",
        "\n",
        "        # backpropagate\n",
        "        loss.backward()\n",
        "        optimizer.step()\n",
        "\n",
        "    #Return average loss\n",
        "    avg_loss = train_loss / (batch+1)\n",
        "    print('Training set: Average loss: {:.6f}'.format(avg_loss))\n",
        "    return avg_loss\n",
        "           \n",
        "            \n",
        "def test(model, data_loader):\n",
        "    # Switch the model to evaluation mode (so we don't backpropagate)\n",
        "    model.eval()\n",
        "    test_loss = 0\n",
        "    correct = 0\n",
        "\n",
        "    with torch.no_grad():\n",
        "        batch_count = 0\n",
        "        for batch, tensor in enumerate(data_loader):\n",
        "            batch_count += 1\n",
        "            data, target = tensor\n",
        "            # Get the predictions\n",
        "            out = model(data)\n",
        "\n",
        "            # calculate the loss\n",
        "            test_loss += loss_criteria(out, target).item()\n",
        "\n",
        "            # Calculate the accuracy\n",
        "            _, predicted = torch.max(out.data, 1)\n",
        "            correct += torch.sum(target==predicted).item()\n",
        "            \n",
        "    # Calculate the average loss and total accuracy for this epoch\n",
        "    avg_loss = test_loss/batch_count\n",
        "    print('Validation set: Average loss: {:.6f}, Accuracy: {}/{} ({:.0f}%)\\n'.format(\n",
        "        avg_loss, correct, len(data_loader.dataset),\n",
        "        100. * correct / len(data_loader.dataset)))\n",
        "    \n",
        "    # return average loss for the epoch\n",
        "    return avg_loss\n",
        "\n",
        "# Specify the loss criteria (we'll use CrossEntropyLoss for multi-class classification)\n",
        "loss_criteria = nn.CrossEntropyLoss()\n",
        "\n",
        "# Use an \"Adam\" optimizer to adjust weights\n",
        "# (see https://pytorch.org/docs/stable/optim.html#algorithms for details of supported algorithms)\n",
        "learning_rate = 0.001\n",
        "optimizer = torch.optim.Adam(model.parameters(), lr=learning_rate)\n",
        "optimizer.zero_grad()\n",
        "\n",
        "# We'll track metrics for each epoch in these arrays\n",
        "epoch_nums = []\n",
        "training_loss = []\n",
        "validation_loss = []\n",
        "\n",
        "# Train over 50 epochs\n",
        "epochs = 50\n",
        "for epoch in range(1, epochs + 1):\n",
        "\n",
        "    # print the epoch number\n",
        "    print('Epoch: {}'.format(epoch))\n",
        "    \n",
        "    # Feed training data into the model to optimize the weights\n",
        "    train_loss = train(model, train_loader, optimizer)\n",
        "    \n",
        "    # Feed the test data into the model to check its performance\n",
        "    test_loss = test(model, test_loader)\n",
        "    \n",
        "    # Log the metrics for this epoch\n",
        "    epoch_nums.append(epoch)\n",
        "    training_loss.append(train_loss)\n",
        "    validation_loss.append(test_loss)"
      ],
      "metadata": {
        "colab": {
          "base_uri": "https://localhost:8080/"
        },
        "id": "9D2B2MkfNtLb",
        "outputId": "8ba3bc69-ef9d-4f67-f8bf-f8fbca8da1a5"
      },
      "execution_count": null,
      "outputs": [
        {
          "output_type": "stream",
          "name": "stdout",
          "text": [
            "Epoch: 1\n",
            "Training set: Average loss: 1.102661\n",
            "Validation set: Average loss: 0.933957, Accuracy: 189/411 (46%)\n",
            "\n",
            "Epoch: 2\n",
            "Training set: Average loss: 0.905142\n",
            "Validation set: Average loss: 0.870184, Accuracy: 227/411 (55%)\n",
            "\n",
            "Epoch: 3\n",
            "Training set: Average loss: 0.863389\n",
            "Validation set: Average loss: 0.830578, Accuracy: 229/411 (56%)\n",
            "\n",
            "Epoch: 4\n",
            "Training set: Average loss: 0.829038\n",
            "Validation set: Average loss: 0.797620, Accuracy: 231/411 (56%)\n",
            "\n",
            "Epoch: 5\n",
            "Training set: Average loss: 0.800002\n",
            "Validation set: Average loss: 0.769257, Accuracy: 242/411 (59%)\n",
            "\n",
            "Epoch: 6\n",
            "Training set: Average loss: 0.774563\n",
            "Validation set: Average loss: 0.744467, Accuracy: 252/411 (61%)\n",
            "\n",
            "Epoch: 7\n",
            "Training set: Average loss: 0.752545\n",
            "Validation set: Average loss: 0.722871, Accuracy: 258/411 (63%)\n",
            "\n",
            "Epoch: 8\n",
            "Training set: Average loss: 0.733695\n",
            "Validation set: Average loss: 0.704833, Accuracy: 274/411 (67%)\n",
            "\n",
            "Epoch: 9\n",
            "Training set: Average loss: 0.716937\n",
            "Validation set: Average loss: 0.689475, Accuracy: 285/411 (69%)\n",
            "\n",
            "Epoch: 10\n",
            "Training set: Average loss: 0.701415\n",
            "Validation set: Average loss: 0.675943, Accuracy: 297/411 (72%)\n",
            "\n",
            "Epoch: 11\n",
            "Training set: Average loss: 0.687584\n",
            "Validation set: Average loss: 0.662878, Accuracy: 310/411 (75%)\n",
            "\n",
            "Epoch: 12\n",
            "Training set: Average loss: 0.674797\n",
            "Validation set: Average loss: 0.650033, Accuracy: 313/411 (76%)\n",
            "\n",
            "Epoch: 13\n",
            "Training set: Average loss: 0.662381\n",
            "Validation set: Average loss: 0.636594, Accuracy: 309/411 (75%)\n",
            "\n",
            "Epoch: 14\n",
            "Training set: Average loss: 0.650715\n",
            "Validation set: Average loss: 0.624652, Accuracy: 318/411 (77%)\n",
            "\n",
            "Epoch: 15\n",
            "Training set: Average loss: 0.639461\n",
            "Validation set: Average loss: 0.614669, Accuracy: 339/411 (82%)\n",
            "\n",
            "Epoch: 16\n",
            "Training set: Average loss: 0.628928\n",
            "Validation set: Average loss: 0.604216, Accuracy: 341/411 (83%)\n",
            "\n",
            "Epoch: 17\n",
            "Training set: Average loss: 0.618988\n",
            "Validation set: Average loss: 0.594338, Accuracy: 347/411 (84%)\n",
            "\n",
            "Epoch: 18\n",
            "Training set: Average loss: 0.609849\n",
            "Validation set: Average loss: 0.584512, Accuracy: 352/411 (86%)\n",
            "\n",
            "Epoch: 19\n",
            "Training set: Average loss: 0.601573\n",
            "Validation set: Average loss: 0.576730, Accuracy: 363/411 (88%)\n",
            "\n",
            "Epoch: 20\n",
            "Training set: Average loss: 0.594156\n",
            "Validation set: Average loss: 0.568305, Accuracy: 364/411 (89%)\n",
            "\n",
            "Epoch: 21\n",
            "Training set: Average loss: 0.587452\n",
            "Validation set: Average loss: 0.560972, Accuracy: 364/411 (89%)\n",
            "\n",
            "Epoch: 22\n",
            "Training set: Average loss: 0.581301\n",
            "Validation set: Average loss: 0.556154, Accuracy: 377/411 (92%)\n",
            "\n",
            "Epoch: 23\n",
            "Training set: Average loss: 0.575911\n",
            "Validation set: Average loss: 0.549683, Accuracy: 376/411 (91%)\n",
            "\n",
            "Epoch: 24\n",
            "Training set: Average loss: 0.571007\n",
            "Validation set: Average loss: 0.546699, Accuracy: 381/411 (93%)\n",
            "\n",
            "Epoch: 25\n",
            "Training set: Average loss: 0.566462\n",
            "Validation set: Average loss: 0.544358, Accuracy: 387/411 (94%)\n",
            "\n",
            "Epoch: 26\n",
            "Training set: Average loss: 0.562462\n",
            "Validation set: Average loss: 0.541302, Accuracy: 389/411 (95%)\n",
            "\n",
            "Epoch: 27\n",
            "Training set: Average loss: 0.558887\n",
            "Validation set: Average loss: 0.539260, Accuracy: 396/411 (96%)\n",
            "\n",
            "Epoch: 28\n",
            "Training set: Average loss: 0.555284\n",
            "Validation set: Average loss: 0.535518, Accuracy: 399/411 (97%)\n",
            "\n",
            "Epoch: 29\n",
            "Training set: Average loss: 0.552216\n",
            "Validation set: Average loss: 0.532615, Accuracy: 399/411 (97%)\n",
            "\n",
            "Epoch: 30\n",
            "Training set: Average loss: 0.549529\n",
            "Validation set: Average loss: 0.529061, Accuracy: 399/411 (97%)\n",
            "\n",
            "Epoch: 31\n",
            "Training set: Average loss: 0.547023\n",
            "Validation set: Average loss: 0.526766, Accuracy: 400/411 (97%)\n",
            "\n",
            "Epoch: 32\n",
            "Training set: Average loss: 0.544622\n",
            "Validation set: Average loss: 0.523758, Accuracy: 401/411 (98%)\n",
            "\n",
            "Epoch: 33\n",
            "Training set: Average loss: 0.542554\n",
            "Validation set: Average loss: 0.522454, Accuracy: 404/411 (98%)\n",
            "\n",
            "Epoch: 34\n",
            "Training set: Average loss: 0.540814\n",
            "Validation set: Average loss: 0.521707, Accuracy: 404/411 (98%)\n",
            "\n",
            "Epoch: 35\n",
            "Training set: Average loss: 0.539469\n",
            "Validation set: Average loss: 0.519602, Accuracy: 405/411 (99%)\n",
            "\n",
            "Epoch: 36\n",
            "Training set: Average loss: 0.538033\n",
            "Validation set: Average loss: 0.516867, Accuracy: 405/411 (99%)\n",
            "\n",
            "Epoch: 37\n",
            "Training set: Average loss: 0.536373\n",
            "Validation set: Average loss: 0.515252, Accuracy: 405/411 (99%)\n",
            "\n",
            "Epoch: 38\n",
            "Training set: Average loss: 0.535080\n",
            "Validation set: Average loss: 0.514425, Accuracy: 405/411 (99%)\n",
            "\n",
            "Epoch: 39\n",
            "Training set: Average loss: 0.534016\n",
            "Validation set: Average loss: 0.512559, Accuracy: 405/411 (99%)\n",
            "\n",
            "Epoch: 40\n",
            "Training set: Average loss: 0.532671\n",
            "Validation set: Average loss: 0.510052, Accuracy: 405/411 (99%)\n",
            "\n",
            "Epoch: 41\n",
            "Training set: Average loss: 0.531516\n",
            "Validation set: Average loss: 0.510057, Accuracy: 405/411 (99%)\n",
            "\n",
            "Epoch: 42\n",
            "Training set: Average loss: 0.530662\n",
            "Validation set: Average loss: 0.509585, Accuracy: 405/411 (99%)\n",
            "\n",
            "Epoch: 43\n",
            "Training set: Average loss: 0.530020\n",
            "Validation set: Average loss: 0.507199, Accuracy: 405/411 (99%)\n",
            "\n",
            "Epoch: 44\n",
            "Training set: Average loss: 0.528842\n",
            "Validation set: Average loss: 0.505526, Accuracy: 405/411 (99%)\n",
            "\n",
            "Epoch: 45\n",
            "Training set: Average loss: 0.527701\n",
            "Validation set: Average loss: 0.504165, Accuracy: 405/411 (99%)\n",
            "\n",
            "Epoch: 46\n",
            "Training set: Average loss: 0.526750\n",
            "Validation set: Average loss: 0.503488, Accuracy: 405/411 (99%)\n",
            "\n",
            "Epoch: 47\n",
            "Training set: Average loss: 0.525828\n",
            "Validation set: Average loss: 0.501042, Accuracy: 405/411 (99%)\n",
            "\n",
            "Epoch: 48\n",
            "Training set: Average loss: 0.524773\n",
            "Validation set: Average loss: 0.500606, Accuracy: 405/411 (99%)\n",
            "\n",
            "Epoch: 49\n",
            "Training set: Average loss: 0.524019\n",
            "Validation set: Average loss: 0.498309, Accuracy: 405/411 (99%)\n",
            "\n",
            "Epoch: 50\n",
            "Training set: Average loss: 0.523246\n",
            "Validation set: Average loss: 0.497755, Accuracy: 405/411 (99%)\n",
            "\n"
          ]
        }
      ]
    },
    {
      "cell_type": "markdown",
      "source": [
        "# Review training and validation loss\n",
        "After training is complete, we can examine the loss metrics we recorded while training and validating the model. We're really looking for two things:\n",
        "\n",
        "The loss should reduce with each epoch, showing that the model is learning the right weights and biases to predict the correct labels.\n",
        "The training loss and validation loss should follow a similar trend, showing that the model is not overfitting to the training data.\n",
        "Let's plot the loss metrics and see:"
      ],
      "metadata": {
        "id": "cacw_AuqUEm6"
      }
    },
    {
      "cell_type": "code",
      "source": [
        "%matplotlib inline\n",
        "from matplotlib import pyplot as plt\n",
        "\n",
        "plt.plot(epoch_nums, training_loss)\n",
        "plt.plot(epoch_nums, validation_loss)\n",
        "plt.xlabel('epoch')\n",
        "plt.ylabel('loss')\n",
        "plt.legend(['training', 'validation'], loc='upper right')\n",
        "plt.show()"
      ],
      "metadata": {
        "colab": {
          "base_uri": "https://localhost:8080/",
          "height": 279
        },
        "id": "_IhSMIzHUHVt",
        "outputId": "ceff8ea6-e09b-4500-ad4e-41e2a3c1ae2f"
      },
      "execution_count": null,
      "outputs": [
        {
          "output_type": "display_data",
          "data": {
            "text/plain": [
              "<Figure size 432x288 with 1 Axes>"
            ],
            "image/png": "[encoded data removed]"
          },
          "metadata": {
            "needs_background": "light"
          }
        }
      ]
    },
    {
      "cell_type": "markdown",
      "source": [
        "# View the learned weights and biases\n",
        "The trained model consists of the final weights and biases that were determined by the optimizer during training. Based on our network model we should expect the following values for each layer:\n",
        "\n",
        "Layer 1: There are four input values going to ten output nodes, so there should be 10 x 4 weights and 10 bias values.\n",
        "\n",
        "Layer 2: There are ten input values going to ten output nodes, so there should be 10 x 10 weights and 10 bias values.\n",
        "\n",
        "Layer 3: There are ten input values going to three output nodes, so there should be 3 x 10 weights and 3 bias values."
      ],
      "metadata": {
        "id": "ZMyxKe3-UnaB"
      }
    },
    {
      "cell_type": "code",
      "source": [
        "for param_tensor in model.state_dict():\n",
        "    print(param_tensor, \"\\n\", model.state_dict()[param_tensor].numpy())"
      ],
      "metadata": {
        "colab": {
          "base_uri": "https://localhost:8080/"
        },
        "id": "mTq7DnEMUpqv",
        "outputId": "b91852c2-1617-4d3e-96f4-2471dbdfbd7f"
      },
      "execution_count": null,
      "outputs": [
        {
          "output_type": "stream",
          "name": "stdout",
          "text": [
            "fc1.weight \n",
            " [[ 0.02229995 -0.35246706 -0.2752421  -0.29135275]\n",
            " [ 0.19775036 -0.6237761   0.02212173  0.08350384]\n",
            " [ 0.32231152 -0.37796003 -0.34325612 -0.29033077]\n",
            " [ 0.44929087 -0.5670486   0.33180645  0.17679961]\n",
            " [ 0.04045187  0.39468873 -0.03539526  0.0578948 ]\n",
            " [-0.11417234 -0.00351322  0.06379652 -0.39110255]\n",
            " [-0.2620657   0.40374637 -0.40577334 -0.0359031 ]\n",
            " [ 0.60263544  0.38030934 -0.06633069 -0.44905552]\n",
            " [ 0.24768895 -0.35614038 -0.14193213 -0.16775817]\n",
            " [-0.22024718  0.22054115  0.6350871   0.13495141]]\n",
            "fc1.bias \n",
            " [ 0.4478464   0.20768906 -0.31610698 -0.01876415 -0.1457353  -0.21191257\n",
            "  0.14706135  0.12003304  0.37511402  0.15581867]\n",
            "fc2.weight \n",
            " [[ 5.06236858e-04  3.49151284e-01 -3.05821389e-01  2.65271723e-01\n",
            "  -3.29438418e-01  4.35840944e-03 -5.37640229e-02 -4.09044147e-01\n",
            "   4.17961515e-02  4.08502996e-01]\n",
            " [-9.24395546e-02 -1.87742561e-01 -1.16953306e-01 -3.13428640e-01\n",
            "   1.42743304e-01 -1.51872724e-01 -2.11031526e-01 -1.82179257e-01\n",
            "   1.81817070e-01  1.67465895e-01]\n",
            " [ 2.42711723e-01  1.14703119e-01 -1.05607331e-01 -8.83692652e-02\n",
            "   9.34231505e-02  2.59950191e-01  8.59798566e-02 -1.49621695e-01\n",
            "  -1.48651525e-01 -2.98983544e-01]\n",
            " [ 6.83203787e-02  7.82676578e-01 -2.81941026e-01  4.05452281e-01\n",
            "  -2.90030599e-01 -3.59745584e-02  9.05972123e-02  1.08643979e-01\n",
            "  -2.12783888e-01 -5.75094819e-01]\n",
            " [ 2.52059579e-01  5.14941178e-02  2.62350321e-01 -1.06012389e-01\n",
            "   9.31466073e-02 -7.23137632e-02 -1.40630109e-02 -1.92596689e-01\n",
            "   1.06948525e-01  9.99804437e-02]\n",
            " [-6.52332697e-03 -1.03882514e-01 -1.94932222e-01  1.95710123e-01\n",
            "  -2.63199300e-01  1.29547596e-01 -1.06332697e-01 -1.34215578e-01\n",
            "   5.68087548e-02 -1.92444652e-01]\n",
            " [ 7.28604123e-02  2.31907461e-02 -2.34795779e-01  1.68439001e-02\n",
            "   9.17882249e-02  1.25172749e-01 -3.98063362e-02 -2.97866583e-01\n",
            "  -4.87477928e-02  7.09630921e-02]\n",
            " [-1.15384273e-01  1.20034084e-01  2.10595861e-01 -1.65118828e-01\n",
            "   3.11858347e-03  1.30759865e-01  2.47852504e-02  2.64149792e-02\n",
            "   3.94859090e-02 -2.48601735e-01]\n",
            " [ 2.48517860e-02  4.73931313e-01  2.84957200e-01  2.21352026e-01\n",
            "  -4.49468233e-02  1.47682860e-01 -1.53838366e-01 -5.10297179e-01\n",
            "  -2.71930933e-01  4.28619266e-01]\n",
            " [ 2.00738013e-01 -6.35745406e-01  1.23721778e-01  2.05027640e-01\n",
            "   4.77522194e-01  2.76507944e-01  2.44998664e-01  1.69770941e-01\n",
            "  -1.10977493e-01  2.99920470e-01]]\n",
            "fc2.bias \n",
            " [ 0.24353033 -0.19029923  0.28429422 -0.15264921  0.17238697 -0.21379894\n",
            "  0.05471132 -0.11085758  0.2803187   0.0493783 ]\n",
            "fc3.weight \n",
            " [[ 0.12311143  0.05616896  0.13454486 -0.10746291  0.1541836  -0.2208759\n",
            "   0.07142162 -0.21395713 -0.31197056 -0.25394854]\n",
            " [ 0.47787198  0.1710905   0.29668987  0.83462715 -0.28240576 -0.218082\n",
            "  -0.00452782 -0.20536852  0.44076523 -0.4065622 ]\n",
            " [-0.36670768 -0.30550492 -0.17953691  1.093686    0.25891465  0.1981934\n",
            "   0.21792449  0.28118545 -0.33549625  0.00431172]]\n",
            "fc3.bias \n",
            " [ 0.28173694 -0.05427741  0.07395431]\n"
          ]
        }
      ]
    },
    {
      "cell_type": "markdown",
      "source": [
        "## Evaluate model performance\n",
        "So, is the model any good? The raw accuracy reported from the validation data would seem to indicate that it predicts pretty well; but it's typically useful to dig a little deeper and compare the predictions for each possible class. A common way to visualize the performance of a classification model is to create a confusion matrix that shows a crosstab of correct and incorrect predictions for each class."
      ],
      "metadata": {
        "id": "EfoTZsgWVciu"
      }
    },
    {
      "cell_type": "code",
      "source": [
        "#Pytorch doesn't have a built-in confusion matrix metric, so we'll use SciKit-Learn\n",
        "from sklearn.metrics import confusion_matrix\n",
        "import numpy as np\n",
        "\n",
        "# Set the model to evaluate mode\n",
        "model.eval()\n",
        "\n",
        "# Get predictions for the test data\n",
        "x = torch.Tensor(x_test).float()\n",
        "_, predicted = torch.max(model(x).data, 1)\n",
        "\n",
        "# Plot the confusion matrix\n",
        "cm = confusion_matrix(y_test, predicted.numpy())\n",
        "plt.imshow(cm, interpolation=\"nearest\", cmap=plt.cm.Blues)\n",
        "plt.colorbar()\n",
        "tick_marks = np.arange(len(penguin_classes))\n",
        "plt.xticks(tick_marks, penguin_classes, rotation=45)\n",
        "plt.yticks(tick_marks, penguin_classes)\n",
        "plt.xlabel(\"Predicted Species\")\n",
        "plt.ylabel(\"Actual Species\")\n",
        "plt.show()"
      ],
      "metadata": {
        "colab": {
          "base_uri": "https://localhost:8080/",
          "height": 310
        },
        "id": "5HVTnq5yVkVD",
        "outputId": "37480348-4526-4123-b5c4-44db568cda30"
      },
      "execution_count": null,
      "outputs": [
        {
          "output_type": "display_data",
          "data": {
            "text/plain": [
              "<Figure size 432x288 with 2 Axes>"
            ],
            "image/png": "[encoded data removed]"
          },
          "metadata": {
            "needs_background": "light"
          }
        }
      ]
    },
    {
      "cell_type": "markdown",
      "source": [
        "The confusion matrix should show a strong diagonal line indicating that there are more correct than incorrect predictions for each class."
      ],
      "metadata": {
        "id": "bihBYxN5WB5J"
      }
    },
    {
      "cell_type": "markdown",
      "source": [
        "## Save the trained model\n",
        "Now that we have a model we believe is reasonably accurate, we can save its trained weights for use later"
      ],
      "metadata": {
        "id": "ZM0EyqZIWUMb"
      }
    },
    {
      "cell_type": "code",
      "source": [
        "# Save the model weights\n",
        "model_file = 'penguin_classifier.pt'\n",
        "torch.save(model.state_dict(), model_file)\n",
        "del model\n",
        "print('model saved as', model_file)"
      ],
      "metadata": {
        "colab": {
          "base_uri": "https://localhost:8080/"
        },
        "id": "6ZHKBpsqWDAO",
        "outputId": "420a1040-95b6-44aa-e2db-a2230858f4f5"
      },
      "execution_count": null,
      "outputs": [
        {
          "output_type": "stream",
          "name": "stdout",
          "text": [
            "model saved as penguin_classifier.pt\n"
          ]
        }
      ]
    },
    {
      "cell_type": "markdown",
      "source": [
        "## Use the trained model\n",
        "When we have a new penguin observation, we can use the model to predict the species"
      ],
      "metadata": {
        "id": "DofWs4vHWw-g"
      }
    },
    {
      "cell_type": "code",
      "source": [
        "\n",
        "# New penguin features\n",
        "x_new = [[39.2,21.1,196.0,4150.0]]\n",
        "print ('New sample: {}'.format(x_new))\n",
        "\n",
        "# Create a new model class and load weights\n",
        "model = PenguinNet()\n",
        "model.load_state_dict(torch.load(model_file))\n",
        "\n",
        "# Set model to evaluation mode\n",
        "model.eval()\n",
        "\n",
        "# Get a prediction for the new data sample\n",
        "x = torch.Tensor(x_new).float()\n",
        "_, predicted = torch.max(model(x).data, 1)\n",
        "\n",
        "print('Prediction:',penguin_classes[predicted.item()])"
      ],
      "metadata": {
        "colab": {
          "base_uri": "https://localhost:8080/"
        },
        "id": "ys7c6M1_Wz-1",
        "outputId": "266b8e08-fe28-4ddb-df98-df64fef76551"
      },
      "execution_count": null,
      "outputs": [
        {
          "output_type": "stream",
          "name": "stdout",
          "text": [
            "New sample: [[39.2, 21.1, 196.0, 4150.0]]\n",
            "Prediction: Gentoo\n"
          ]
        }
      ]
    },
    {
      "cell_type": "markdown",
      "source": [
        "# Deep Learning with TensorFlow"
      ],
      "metadata": {
        "id": "MqSic7vbaVLL"
      }
    },
    {
      "cell_type": "code",
      "source": [
        "!pip install --upgrade tensorflow"
      ],
      "metadata": {
        "colab": {
          "base_uri": "https://localhost:8080/"
        },
        "id": "icF_YoJbaau6",
        "outputId": "79e035ee-e67e-4209-9108-0ee58cde865f"
      },
      "execution_count": null,
      "outputs": [
        {
          "output_type": "stream",
          "name": "stdout",
          "text": [
            "Looking in indexes: https://pypi.org/simple, https://us-python.pkg.dev/colab-wheels/public/simple/\n",
            "Requirement already satisfied: tensorflow in /usr/local/lib/python3.8/dist-packages (2.9.2)\n",
            "Collecting tensorflow\n",
            "  Downloading tensorflow-2.11.0-cp38-cp38-manylinux_2_17_x86_64.manylinux2014_x86_64.whl (588.3 MB)\n",
            "\u001b[2K     \u001b[90m━━━━━━━━━━━━━━━━━━━━━━━━━━━━━━━━━━━━━━━\u001b[0m \u001b[32m588.3/588.3 MB\u001b[0m \u001b[31m1.6 MB/s\u001b[0m eta \u001b[36m0:00:00\u001b[0m\n",
            "\u001b[?25hRequirement already satisfied: gast<=0.4.0,>=0.2.1 in /usr/local/lib/python3.8/dist-packages (from tensorflow) (0.4.0)\n",
            "Requirement already satisfied: wrapt>=1.11.0 in /usr/local/lib/python3.8/dist-packages (from tensorflow) (1.14.1)\n",
            "Requirement already satisfied: grpcio<2.0,>=1.24.3 in /usr/local/lib/python3.8/dist-packages (from tensorflow) (1.51.1)\n",
            "Requirement already satisfied: opt-einsum>=2.3.2 in /usr/local/lib/python3.8/dist-packages (from tensorflow) (3.3.0)\n",
            "Requirement already satisfied: libclang>=13.0.0 in /usr/local/lib/python3.8/dist-packages (from tensorflow) (15.0.6.1)\n",
            "Requirement already satisfied: h5py>=2.9.0 in /usr/local/lib/python3.8/dist-packages (from tensorflow) (3.1.0)\n",
            "Requirement already satisfied: termcolor>=1.1.0 in /usr/local/lib/python3.8/dist-packages (from tensorflow) (2.2.0)\n",
            "Requirement already satisfied: packaging in /usr/local/lib/python3.8/dist-packages (from tensorflow) (21.3)\n",
            "Requirement already satisfied: protobuf<3.20,>=3.9.2 in /usr/local/lib/python3.8/dist-packages (from tensorflow) (3.19.6)\n",
            "Requirement already satisfied: numpy>=1.20 in /usr/local/lib/python3.8/dist-packages (from tensorflow) (1.21.6)\n",
            "Requirement already satisfied: google-pasta>=0.1.1 in /usr/local/lib/python3.8/dist-packages (from tensorflow) (0.2.0)\n",
            "Requirement already satisfied: tensorflow-io-gcs-filesystem>=0.23.1 in /usr/local/lib/python3.8/dist-packages (from tensorflow) (0.29.0)\n",
            "Collecting keras<2.12,>=2.11.0\n",
            "  Downloading keras-2.11.0-py2.py3-none-any.whl (1.7 MB)\n",
            "\u001b[2K     \u001b[90m━━━━━━━━━━━━━━━━━━━━━━━━━━━━━━━━━━━━━━━━\u001b[0m \u001b[32m1.7/1.7 MB\u001b[0m \u001b[31m13.0 MB/s\u001b[0m eta \u001b[36m0:00:00\u001b[0m\n",
            "\u001b[?25hRequirement already satisfied: setuptools in /usr/local/lib/python3.8/dist-packages (from tensorflow) (57.4.0)\n",
            "Collecting flatbuffers>=2.0\n",
            "  Downloading flatbuffers-23.1.21-py2.py3-none-any.whl (26 kB)\n",
            "Requirement already satisfied: astunparse>=1.6.0 in /usr/local/lib/python3.8/dist-packages (from tensorflow) (1.6.3)\n",
            "Collecting tensorboard<2.12,>=2.11\n",
            "  Downloading tensorboard-2.11.2-py3-none-any.whl (6.0 MB)\n",
            "\u001b[2K     \u001b[90m━━━━━━━━━━━━━━━━━━━━━━━━━━━━━━━━━━━━━━━━\u001b[0m \u001b[32m6.0/6.0 MB\u001b[0m \u001b[31m11.9 MB/s\u001b[0m eta \u001b[36m0:00:00\u001b[0m\n",
            "\u001b[?25hRequirement already satisfied: six>=1.12.0 in /usr/local/lib/python3.8/dist-packages (from tensorflow) (1.15.0)\n",
            "Requirement already satisfied: absl-py>=1.0.0 in /usr/local/lib/python3.8/dist-packages (from tensorflow) (1.3.0)\n",
            "Requirement already satisfied: typing-extensions>=3.6.6 in /usr/local/lib/python3.8/dist-packages (from tensorflow) (4.4.0)\n",
            "Collecting tensorflow-estimator<2.12,>=2.11.0\n",
            "  Downloading tensorflow_estimator-2.11.0-py2.py3-none-any.whl (439 kB)\n",
            "\u001b[2K     \u001b[90m━━━━━━━━━━━━━━━━━━━━━━━━━━━━━━━━━━━━━━\u001b[0m \u001b[32m439.2/439.2 KB\u001b[0m \u001b[31m12.1 MB/s\u001b[0m eta \u001b[36m0:00:00\u001b[0m\n",
            "\u001b[?25hRequirement already satisfied: wheel<1.0,>=0.23.0 in /usr/local/lib/python3.8/dist-packages (from astunparse>=1.6.0->tensorflow) (0.38.4)\n",
            "Requirement already satisfied: werkzeug>=1.0.1 in /usr/local/lib/python3.8/dist-packages (from tensorboard<2.12,>=2.11->tensorflow) (1.0.1)\n",
            "Requirement already satisfied: tensorboard-data-server<0.7.0,>=0.6.0 in /usr/local/lib/python3.8/dist-packages (from tensorboard<2.12,>=2.11->tensorflow) (0.6.1)\n",
            "Requirement already satisfied: markdown>=2.6.8 in /usr/local/lib/python3.8/dist-packages (from tensorboard<2.12,>=2.11->tensorflow) (3.4.1)\n",
            "Requirement already satisfied: tensorboard-plugin-wit>=1.6.0 in /usr/local/lib/python3.8/dist-packages (from tensorboard<2.12,>=2.11->tensorflow) (1.8.1)\n",
            "Requirement already satisfied: google-auth-oauthlib<0.5,>=0.4.1 in /usr/local/lib/python3.8/dist-packages (from tensorboard<2.12,>=2.11->tensorflow) (0.4.6)\n",
            "Requirement already satisfied: google-auth<3,>=1.6.3 in /usr/local/lib/python3.8/dist-packages (from tensorboard<2.12,>=2.11->tensorflow) (2.16.0)\n",
            "Requirement already satisfied: requests<3,>=2.21.0 in /usr/local/lib/python3.8/dist-packages (from tensorboard<2.12,>=2.11->tensorflow) (2.25.1)\n",
            "Requirement already satisfied: pyparsing!=3.0.5,>=2.0.2 in /usr/local/lib/python3.8/dist-packages (from packaging->tensorflow) (3.0.9)\n",
            "Requirement already satisfied: cachetools<6.0,>=2.0.0 in /usr/local/lib/python3.8/dist-packages (from google-auth<3,>=1.6.3->tensorboard<2.12,>=2.11->tensorflow) (5.2.1)\n",
            "Requirement already satisfied: rsa<5,>=3.1.4 in /usr/local/lib/python3.8/dist-packages (from google-auth<3,>=1.6.3->tensorboard<2.12,>=2.11->tensorflow) (4.9)\n",
            "Requirement already satisfied: pyasn1-modules>=0.2.1 in /usr/local/lib/python3.8/dist-packages (from google-auth<3,>=1.6.3->tensorboard<2.12,>=2.11->tensorflow) (0.2.8)\n",
            "Requirement already satisfied: requests-oauthlib>=0.7.0 in /usr/local/lib/python3.8/dist-packages (from google-auth-oauthlib<0.5,>=0.4.1->tensorboard<2.12,>=2.11->tensorflow) (1.3.1)\n",
            "Requirement already satisfied: importlib-metadata>=4.4 in /usr/local/lib/python3.8/dist-packages (from markdown>=2.6.8->tensorboard<2.12,>=2.11->tensorflow) (6.0.0)\n",
            "Requirement already satisfied: chardet<5,>=3.0.2 in /usr/local/lib/python3.8/dist-packages (from requests<3,>=2.21.0->tensorboard<2.12,>=2.11->tensorflow) (4.0.0)\n",
            "Requirement already satisfied: idna<3,>=2.5 in /usr/local/lib/python3.8/dist-packages (from requests<3,>=2.21.0->tensorboard<2.12,>=2.11->tensorflow) (2.10)\n",
            "Requirement already satisfied: certifi>=2017.4.17 in /usr/local/lib/python3.8/dist-packages (from requests<3,>=2.21.0->tensorboard<2.12,>=2.11->tensorflow) (2022.12.7)\n",
            "Requirement already satisfied: urllib3<1.27,>=1.21.1 in /usr/local/lib/python3.8/dist-packages (from requests<3,>=2.21.0->tensorboard<2.12,>=2.11->tensorflow) (1.24.3)\n",
            "Requirement already satisfied: zipp>=0.5 in /usr/local/lib/python3.8/dist-packages (from importlib-metadata>=4.4->markdown>=2.6.8->tensorboard<2.12,>=2.11->tensorflow) (3.11.0)\n",
            "Requirement already satisfied: pyasn1<0.5.0,>=0.4.6 in /usr/local/lib/python3.8/dist-packages (from pyasn1-modules>=0.2.1->google-auth<3,>=1.6.3->tensorboard<2.12,>=2.11->tensorflow) (0.4.8)\n",
            "Requirement already satisfied: oauthlib>=3.0.0 in /usr/local/lib/python3.8/dist-packages (from requests-oauthlib>=0.7.0->google-auth-oauthlib<0.5,>=0.4.1->tensorboard<2.12,>=2.11->tensorflow) (3.2.2)\n",
            "Installing collected packages: flatbuffers, tensorflow-estimator, keras, tensorboard, tensorflow\n",
            "  Attempting uninstall: flatbuffers\n",
            "    Found existing installation: flatbuffers 1.12\n",
            "    Uninstalling flatbuffers-1.12:\n",
            "      Successfully uninstalled flatbuffers-1.12\n",
            "  Attempting uninstall: tensorflow-estimator\n",
            "    Found existing installation: tensorflow-estimator 2.9.0\n",
            "    Uninstalling tensorflow-estimator-2.9.0:\n",
            "      Successfully uninstalled tensorflow-estimator-2.9.0\n",
            "  Attempting uninstall: keras\n",
            "    Found existing installation: keras 2.9.0\n",
            "    Uninstalling keras-2.9.0:\n",
            "      Successfully uninstalled keras-2.9.0\n",
            "  Attempting uninstall: tensorboard\n",
            "    Found existing installation: tensorboard 2.9.1\n",
            "    Uninstalling tensorboard-2.9.1:\n",
            "      Successfully uninstalled tensorboard-2.9.1\n",
            "  Attempting uninstall: tensorflow\n",
            "    Found existing installation: tensorflow 2.9.2\n",
            "    Uninstalling tensorflow-2.9.2:\n",
            "      Successfully uninstalled tensorflow-2.9.2\n",
            "Successfully installed flatbuffers-23.1.21 keras-2.11.0 tensorboard-2.11.2 tensorflow-2.11.0 tensorflow-estimator-2.11.0\n"
          ]
        }
      ]
    },
    {
      "cell_type": "code",
      "source": [
        "import tensorflow\n",
        "from tensorflow import keras\n",
        "from tensorflow.keras import models\n",
        "from tensorflow.keras.models import Sequential\n",
        "from tensorflow.keras.layers import Dense\n",
        "from tensorflow.keras import utils\n",
        "from tensorflow.keras import optimizers\n",
        "\n",
        "# Set random seed for reproducability\n",
        "tensorflow.random.set_seed(0)\n",
        "\n",
        "print(\"Libraries imported.\")\n",
        "print('Keras version:',keras.__version__)\n",
        "print('TensorFlow version:',tensorflow.__version__)"
      ],
      "metadata": {
        "colab": {
          "base_uri": "https://localhost:8080/"
        },
        "id": "J6RwRacTagnG",
        "outputId": "03df6c21-9c0d-4bd4-f4f1-8b44ec0472c4"
      },
      "execution_count": null,
      "outputs": [
        {
          "output_type": "stream",
          "name": "stdout",
          "text": [
            "Libraries imported.\n",
            "Keras version: 2.11.0\n",
            "TensorFlow version: 2.11.0\n"
          ]
        }
      ]
    },
    {
      "cell_type": "markdown",
      "source": [
        "## Prepare the data for TensorFlow\n",
        "We've already loaded our data and split it into training and validation datasets. However, we need to do some further data preparation so that our data will work correctly with TensorFlow. Specifically, we need to set the data type of our features to 32-bit floating point numbers, and specify that the labels represent categorical classes rather than numeric values."
      ],
      "metadata": {
        "id": "nGoqmIUGanIi"
      }
    },
    {
      "cell_type": "code",
      "source": [
        "# Set data types for float features\n",
        "x_train = x_train.astype('float32')\n",
        "x_test = x_test.astype('float32')\n",
        "\n",
        "# Set data types for categorical labels\n",
        "y_train = utils.to_categorical(y_train)\n",
        "y_test = utils.to_categorical(y_test)\n",
        "print('Ready...')"
      ],
      "metadata": {
        "colab": {
          "base_uri": "https://localhost:8080/"
        },
        "id": "YAK2eELdaqFS",
        "outputId": "ddae39fa-b5e3-4023-f083-2832615e76f2"
      },
      "execution_count": null,
      "outputs": [
        {
          "output_type": "stream",
          "name": "stdout",
          "text": [
            "Ready...\n"
          ]
        }
      ]
    },
    {
      "cell_type": "markdown",
      "source": [
        "## Define a neural network\n",
        "Now we're ready to define our neural network. In this case, we'll create a network that consists of 3 fully-connected layers:\n",
        "\n",
        "An input layer that receives an input value for each feature (in this case, the four penguin measurements) and applies a ReLU activation function.\n",
        "\n",
        "A hidden layer that receives ten inputs and applies a ReLU activation function.\n",
        "\n",
        "An output layer that uses a SoftMax activation function to generate an output for each penguin species (which represent the classification probabilities for each of the three possible penguin species). Softmax functions produce a vector with probability values that sum to 1."
      ],
      "metadata": {
        "id": "2jE4KuLJbLZq"
      }
    },
    {
      "cell_type": "code",
      "source": [
        "# Define a classifier network\n",
        "hl = 10 # Number of hidden layer nodes\n",
        "\n",
        "model = Sequential()\n",
        "model.add(Dense(hl, input_dim=len(features), activation='relu'))\n",
        "model.add(Dense(hl, input_dim=hl, activation='relu'))\n",
        "model.add(Dense(len(penguin_classes), input_dim=hl, activation='softmax'))\n",
        "\n",
        "print(model.summary())"
      ],
      "metadata": {
        "colab": {
          "base_uri": "https://localhost:8080/"
        },
        "id": "yM_6xPIXbQSZ",
        "outputId": "b4974e55-772b-454f-8c2a-3b0b8e5d2f45"
      },
      "execution_count": null,
      "outputs": [
        {
          "output_type": "stream",
          "name": "stdout",
          "text": [
            "Model: \"sequential\"\n",
            "_________________________________________________________________\n",
            " Layer (type)                Output Shape              Param #   \n",
            "=================================================================\n",
            " dense (Dense)               (None, 10)                50        \n",
            "                                                                 \n",
            " dense_1 (Dense)             (None, 10)                110       \n",
            "                                                                 \n",
            " dense_2 (Dense)             (None, 3)                 33        \n",
            "                                                                 \n",
            "=================================================================\n",
            "Total params: 193\n",
            "Trainable params: 193\n",
            "Non-trainable params: 0\n",
            "_________________________________________________________________\n",
            "None\n"
          ]
        }
      ]
    },
    {
      "cell_type": "markdown",
      "source": [
        "## Train the model\n",
        "To train the model, we need to repeatedly feed the training values forward through the network, use a loss function to calculate the loss, use an optimizer to backpropagate the weight and bias value adjustments, and validate the model using the test data we withheld.\n",
        "\n",
        "To do this, we'll apply an Adam optimizer to a categorical cross-entropy loss function iteratively over 50 epochs."
      ],
      "metadata": {
        "id": "ZEo4DR-0eOc2"
      }
    },
    {
      "cell_type": "code",
      "source": [
        "#hyper-parameters for optimizer\n",
        "learning_rate = 0.001\n",
        "opt = optimizers.Adam(lr=learning_rate)\n",
        "\n",
        "model.compile(loss='categorical_crossentropy',\n",
        "              optimizer=opt,\n",
        "              metrics=['accuracy'])\n",
        "\n",
        "# Train the model over 50 epochs using 10-observation batches and using the test holdout dataset for validation\n",
        "num_epochs = 50\n",
        "history = model.fit(x_train, y_train, epochs=num_epochs, batch_size=10, validation_data=(x_test, y_test))"
      ],
      "metadata": {
        "colab": {
          "base_uri": "https://localhost:8080/"
        },
        "id": "KMCb1A5VeSB8",
        "outputId": "751131dd-a454-4178-80d1-80a2dd371780"
      },
      "execution_count": null,
      "outputs": [
        {
          "output_type": "stream",
          "name": "stderr",
          "text": [
            "WARNING:absl:`lr` is deprecated, please use `learning_rate` instead, or use the legacy optimizer, e.g.,tf.keras.optimizers.legacy.Adam.\n"
          ]
        },
        {
          "output_type": "stream",
          "name": "stdout",
          "text": [
            "Epoch 1/50\n",
            "96/96 [==============================] - 2s 9ms/step - loss: 4.7347 - accuracy: 0.3866 - val_loss: 1.0716 - val_accuracy: 0.3212\n",
            "Epoch 2/50\n",
            "96/96 [==============================] - 0s 3ms/step - loss: 1.0029 - accuracy: 0.6520 - val_loss: 0.9010 - val_accuracy: 0.7421\n",
            "Epoch 3/50\n",
            "96/96 [==============================] - 0s 3ms/step - loss: 0.8624 - accuracy: 0.5883 - val_loss: 0.8174 - val_accuracy: 0.8078\n",
            "Epoch 4/50\n",
            "96/96 [==============================] - 0s 3ms/step - loss: 0.7971 - accuracy: 0.6917 - val_loss: 0.8030 - val_accuracy: 0.7105\n",
            "Epoch 5/50\n",
            "96/96 [==============================] - 0s 3ms/step - loss: 0.7373 - accuracy: 0.8516 - val_loss: 0.7281 - val_accuracy: 0.8856\n",
            "Epoch 6/50\n",
            "96/96 [==============================] - 0s 3ms/step - loss: 0.6871 - accuracy: 0.8485 - val_loss: 0.6736 - val_accuracy: 0.7372\n",
            "Epoch 7/50\n",
            "96/96 [==============================] - 0s 3ms/step - loss: 0.6406 - accuracy: 0.8934 - val_loss: 0.6094 - val_accuracy: 0.9221\n",
            "Epoch 8/50\n",
            "96/96 [==============================] - 0s 3ms/step - loss: 0.5866 - accuracy: 0.9039 - val_loss: 0.5625 - val_accuracy: 0.9294\n",
            "Epoch 9/50\n",
            "96/96 [==============================] - 0s 3ms/step - loss: 0.5425 - accuracy: 0.9122 - val_loss: 0.5126 - val_accuracy: 0.9246\n",
            "Epoch 10/50\n",
            "96/96 [==============================] - 0s 3ms/step - loss: 0.4954 - accuracy: 0.9279 - val_loss: 0.4682 - val_accuracy: 0.9270\n",
            "Epoch 11/50\n",
            "96/96 [==============================] - 0s 3ms/step - loss: 0.4644 - accuracy: 0.9039 - val_loss: 0.4254 - val_accuracy: 0.9367\n",
            "Epoch 12/50\n",
            "96/96 [==============================] - 0s 3ms/step - loss: 0.4171 - accuracy: 0.9363 - val_loss: 0.4044 - val_accuracy: 0.9221\n",
            "Epoch 13/50\n",
            "96/96 [==============================] - 0s 3ms/step - loss: 0.3651 - accuracy: 0.9478 - val_loss: 0.3535 - val_accuracy: 0.9343\n",
            "Epoch 14/50\n",
            "96/96 [==============================] - 0s 3ms/step - loss: 0.3275 - accuracy: 0.9415 - val_loss: 0.3203 - val_accuracy: 0.9684\n",
            "Epoch 15/50\n",
            "96/96 [==============================] - 0s 3ms/step - loss: 0.2991 - accuracy: 0.9613 - val_loss: 0.3006 - val_accuracy: 0.9343\n",
            "Epoch 16/50\n",
            "96/96 [==============================] - 0s 3ms/step - loss: 0.2696 - accuracy: 0.9551 - val_loss: 0.2520 - val_accuracy: 0.9513\n",
            "Epoch 17/50\n",
            "96/96 [==============================] - 0s 3ms/step - loss: 0.2382 - accuracy: 0.9655 - val_loss: 0.2262 - val_accuracy: 0.9732\n",
            "Epoch 18/50\n",
            "96/96 [==============================] - 0s 3ms/step - loss: 0.2211 - accuracy: 0.9603 - val_loss: 0.2217 - val_accuracy: 0.9611\n",
            "Epoch 19/50\n",
            "96/96 [==============================] - 0s 3ms/step - loss: 0.1967 - accuracy: 0.9634 - val_loss: 0.2003 - val_accuracy: 0.9708\n",
            "Epoch 20/50\n",
            "96/96 [==============================] - 0s 3ms/step - loss: 0.1797 - accuracy: 0.9718 - val_loss: 0.1971 - val_accuracy: 0.9538\n",
            "Epoch 21/50\n",
            "96/96 [==============================] - 0s 3ms/step - loss: 0.1634 - accuracy: 0.9697 - val_loss: 0.1587 - val_accuracy: 0.9757\n",
            "Epoch 22/50\n",
            "96/96 [==============================] - 0s 3ms/step - loss: 0.1505 - accuracy: 0.9687 - val_loss: 0.1750 - val_accuracy: 0.9513\n",
            "Epoch 23/50\n",
            "96/96 [==============================] - 0s 3ms/step - loss: 0.1416 - accuracy: 0.9760 - val_loss: 0.1551 - val_accuracy: 0.9611\n",
            "Epoch 24/50\n",
            "96/96 [==============================] - 0s 3ms/step - loss: 0.1283 - accuracy: 0.9781 - val_loss: 0.1219 - val_accuracy: 0.9805\n",
            "Epoch 25/50\n",
            "96/96 [==============================] - 0s 3ms/step - loss: 0.1201 - accuracy: 0.9801 - val_loss: 0.1138 - val_accuracy: 0.9781\n",
            "Epoch 26/50\n",
            "96/96 [==============================] - 0s 3ms/step - loss: 0.1136 - accuracy: 0.9791 - val_loss: 0.1054 - val_accuracy: 0.9805\n",
            "Epoch 27/50\n",
            "96/96 [==============================] - 0s 3ms/step - loss: 0.1036 - accuracy: 0.9812 - val_loss: 0.1013 - val_accuracy: 0.9805\n",
            "Epoch 28/50\n",
            "96/96 [==============================] - 0s 3ms/step - loss: 0.0985 - accuracy: 0.9812 - val_loss: 0.0985 - val_accuracy: 0.9854\n",
            "Epoch 29/50\n",
            "96/96 [==============================] - 0s 3ms/step - loss: 0.0890 - accuracy: 0.9801 - val_loss: 0.0949 - val_accuracy: 0.9781\n",
            "Epoch 30/50\n",
            "96/96 [==============================] - 0s 3ms/step - loss: 0.0872 - accuracy: 0.9812 - val_loss: 0.0886 - val_accuracy: 0.9781\n",
            "Epoch 31/50\n",
            "96/96 [==============================] - 0s 3ms/step - loss: 0.0862 - accuracy: 0.9801 - val_loss: 0.0787 - val_accuracy: 0.9805\n",
            "Epoch 32/50\n",
            "96/96 [==============================] - 0s 3ms/step - loss: 0.0777 - accuracy: 0.9791 - val_loss: 0.0748 - val_accuracy: 0.9781\n",
            "Epoch 33/50\n",
            "96/96 [==============================] - 0s 3ms/step - loss: 0.0762 - accuracy: 0.9770 - val_loss: 0.0717 - val_accuracy: 0.9927\n",
            "Epoch 34/50\n",
            "96/96 [==============================] - 0s 3ms/step - loss: 0.0727 - accuracy: 0.9854 - val_loss: 0.0910 - val_accuracy: 0.9708\n",
            "Epoch 35/50\n",
            "96/96 [==============================] - 0s 3ms/step - loss: 0.0642 - accuracy: 0.9843 - val_loss: 0.0633 - val_accuracy: 0.9903\n",
            "Epoch 36/50\n",
            "96/96 [==============================] - 0s 3ms/step - loss: 0.0642 - accuracy: 0.9843 - val_loss: 0.0609 - val_accuracy: 0.9878\n",
            "Epoch 37/50\n",
            "96/96 [==============================] - 0s 3ms/step - loss: 0.0605 - accuracy: 0.9875 - val_loss: 0.0646 - val_accuracy: 0.9781\n",
            "Epoch 38/50\n",
            "96/96 [==============================] - 0s 3ms/step - loss: 0.0611 - accuracy: 0.9875 - val_loss: 0.0566 - val_accuracy: 0.9927\n",
            "Epoch 39/50\n",
            "96/96 [==============================] - 0s 3ms/step - loss: 0.0612 - accuracy: 0.9885 - val_loss: 0.0573 - val_accuracy: 0.9805\n",
            "Epoch 40/50\n",
            "96/96 [==============================] - 0s 3ms/step - loss: 0.0630 - accuracy: 0.9770 - val_loss: 0.0514 - val_accuracy: 0.9927\n",
            "Epoch 41/50\n",
            "96/96 [==============================] - 0s 3ms/step - loss: 0.0536 - accuracy: 0.9875 - val_loss: 0.0495 - val_accuracy: 0.9927\n",
            "Epoch 42/50\n",
            "96/96 [==============================] - 0s 3ms/step - loss: 0.0611 - accuracy: 0.9801 - val_loss: 0.0518 - val_accuracy: 0.9854\n",
            "Epoch 43/50\n",
            "96/96 [==============================] - 0s 3ms/step - loss: 0.0546 - accuracy: 0.9854 - val_loss: 0.0463 - val_accuracy: 0.9927\n",
            "Epoch 44/50\n",
            "96/96 [==============================] - 0s 3ms/step - loss: 0.0511 - accuracy: 0.9833 - val_loss: 0.0552 - val_accuracy: 0.9781\n",
            "Epoch 45/50\n",
            "96/96 [==============================] - 0s 3ms/step - loss: 0.0489 - accuracy: 0.9896 - val_loss: 0.0471 - val_accuracy: 0.9854\n",
            "Epoch 46/50\n",
            "96/96 [==============================] - 0s 3ms/step - loss: 0.0455 - accuracy: 0.9864 - val_loss: 0.0433 - val_accuracy: 0.9854\n",
            "Epoch 47/50\n",
            "96/96 [==============================] - 0s 3ms/step - loss: 0.0498 - accuracy: 0.9833 - val_loss: 0.0458 - val_accuracy: 0.9830\n",
            "Epoch 48/50\n",
            "96/96 [==============================] - 0s 3ms/step - loss: 0.0464 - accuracy: 0.9896 - val_loss: 0.0527 - val_accuracy: 0.9854\n",
            "Epoch 49/50\n",
            "96/96 [==============================] - 0s 3ms/step - loss: 0.0411 - accuracy: 0.9906 - val_loss: 0.0617 - val_accuracy: 0.9708\n",
            "Epoch 50/50\n",
            "96/96 [==============================] - 0s 3ms/step - loss: 0.0418 - accuracy: 0.9875 - val_loss: 0.0447 - val_accuracy: 0.9854\n"
          ]
        }
      ]
    },
    {
      "cell_type": "markdown",
      "source": [
        "## Review training and validation loss\n",
        "After training is complete, we can examine the loss metrics we recorded while training and validating the model. We're really looking for two things:\n",
        "\n",
        "The loss should reduce with each epoch, showing that the model is learning the right weights and biases to predict the correct labels.\n",
        "\n",
        "The training loss and validation loss should follow a similar trend, showing that the model is not overfitting to the training data.\n",
        "\n",
        "Let's plot the loss metrics and see:"
      ],
      "metadata": {
        "id": "fEsm-C19ey-6"
      }
    },
    {
      "cell_type": "code",
      "source": [
        "%matplotlib inline\n",
        "from matplotlib import pyplot as plt\n",
        "\n",
        "epoch_nums = range(1,num_epochs+1)\n",
        "training_loss = history.history[\"loss\"]\n",
        "validation_loss = history.history[\"val_loss\"]\n",
        "plt.plot(epoch_nums, training_loss)\n",
        "plt.plot(epoch_nums, validation_loss)\n",
        "plt.xlabel('epoch')\n",
        "plt.ylabel('loss')\n",
        "plt.legend(['training', 'validation'], loc='upper right')\n",
        "plt.show()"
      ],
      "metadata": {
        "colab": {
          "base_uri": "https://localhost:8080/",
          "height": 279
        },
        "id": "-XSAkTkoe37Y",
        "outputId": "33d04664-fcc5-4791-fe60-88457e57eed7"
      },
      "execution_count": null,
      "outputs": [
        {
          "output_type": "display_data",
          "data": {
            "text/plain": [
              "<Figure size 432x288 with 1 Axes>"
            ],
            "image/png": "[encoded data removed]"
          },
          "metadata": {
            "needs_background": "light"
          }
        }
      ]
    },
    {
      "cell_type": "markdown",
      "source": [
        "\n",
        "## View the learned weights and biases\n",
        "The trained model consists of the final weights and biases that were determined by the optimizer during training. Based on our network model we should expect the following values for each layer:\n",
        "\n",
        "Layer 1: There are four input values going to ten output nodes, so there should be 4 x 10 weights and 10 bias values.\n",
        "Layer 2: There are ten input values going to ten output nodes, so there should be 10 x 10 weights and 10 bias values.\n",
        "Layer 3: There are ten input values going to three output nodes, so there should be 10 x 3 weights and 3 bias values."
      ],
      "metadata": {
        "id": "BrHoTSLIfNTZ"
      }
    },
    {
      "cell_type": "code",
      "source": [
        "for layer in model.layers:\n",
        "    weights = layer.get_weights()[0]\n",
        "    biases = layer.get_weights()[1]\n",
        "    print('------------\\nWeights:\\n',weights,'\\nBiases:\\n', biases)"
      ],
      "metadata": {
        "colab": {
          "base_uri": "https://localhost:8080/"
        },
        "id": "YITLEPdpfSsg",
        "outputId": "3c480095-665c-4030-9a38-b1f1e30276ef"
      },
      "execution_count": null,
      "outputs": [
        {
          "output_type": "stream",
          "name": "stdout",
          "text": [
            "------------\n",
            "Weights:\n",
            " [[ 0.34819221 -0.22542676  0.14334998 -0.20979366  0.22670588  0.44623157\n",
            "  -0.28841475  0.44679496 -0.36357725 -0.07718617]\n",
            " [-1.2847741   1.1874338  -0.13798    -0.4187045   0.15522899  0.90032756\n",
            "   0.01894599  0.2556485  -0.03043526  0.18137999]\n",
            " [ 0.47098175 -0.05068964 -0.33816677 -0.56706834 -0.3067076  -0.36346814\n",
            "  -0.60682994 -0.44267845 -0.3830216   0.36973584]\n",
            " [ 0.5962808   0.35482445  0.31327745 -0.32505646  0.3239517   0.10458663\n",
            "  -0.38811812 -0.29632512  0.4024192  -0.08509042]] \n",
            "Biases:\n",
            " [-0.4929077   0.5579143  -0.30228546  0.         -0.28083572  0.08357517\n",
            "  0.         -0.25139266  0.         -0.0186032 ]\n",
            "------------\n",
            "Weights:\n",
            " [[-0.086155   -0.11518669  0.5306053  -0.2404179  -0.33351478  0.44563007\n",
            "   0.30535477 -0.02052689 -0.00245721 -0.2632157 ]\n",
            " [ 0.44838813  0.17644018 -0.42204303  0.2937833  -0.23094887  0.36441952\n",
            "   0.22033644 -0.26164812 -0.06387301  0.39393783]\n",
            " [-0.08728151  0.21185625  0.39471284  0.24197084  0.09860706  0.2998498\n",
            "  -0.51714075  0.05043489  0.01288748 -0.4603289 ]\n",
            " [-0.10753495  0.07089049 -0.0168553  -0.253214    0.0878374   0.0520032\n",
            "   0.13625187  0.48196185  0.3628506  -0.20380086]\n",
            " [-0.14715551 -0.5451188   0.0563231  -0.47085947 -0.17422709 -0.05194688\n",
            "  -0.08488184 -0.44853517  0.31382582 -0.4502102 ]\n",
            " [ 0.5037798   0.09114951 -0.01113098 -0.11136988  0.34801954  0.2485394\n",
            "  -0.40999693 -0.44803554 -0.20198224  0.05411637]\n",
            " [-0.12889692  0.4546348  -0.32022262 -0.23856395 -0.07909331 -0.13806885\n",
            "   0.13738602  0.27708274 -0.38115126 -0.5039535 ]\n",
            " [ 1.6157691   0.2778433   0.7003813  -0.11305341  0.21909952 -0.47750175\n",
            "   0.17611998 -0.34003377 -0.3414004   0.23244792]\n",
            " [-0.3738313  -0.3017854  -0.37684447  0.0065645  -0.21724218  0.44818586\n",
            "  -0.27008158  0.1427393  -0.38239548 -0.29203093]\n",
            " [-0.13684946 -0.33437476 -0.38942555  0.01936126  0.3009117  -0.22297265\n",
            "   0.05543339  0.14306378  0.0798012  -0.28528285]] \n",
            "Biases:\n",
            " [-0.00435975  0.         -0.48814073  0.         -0.04890417  0.17854401\n",
            "  0.          0.         -0.07247062  0.        ]\n",
            "------------\n",
            "Weights:\n",
            " [[ 0.02910139 -0.5043763   0.3918371 ]\n",
            " [-0.5455884  -0.64140046  0.19192308]\n",
            " [-0.5786633   0.3501421   0.7957798 ]\n",
            " [ 0.5052029  -0.37494525 -0.3405466 ]\n",
            " [-0.41128942  0.33081144 -0.30114287]\n",
            " [ 0.14390118  0.32613188 -0.5657873 ]\n",
            " [-0.11124182 -0.21662226  0.23684222]\n",
            " [-0.26089305  0.5045738   0.6091012 ]\n",
            " [-0.3371984   0.03859415  0.3321735 ]\n",
            " [-0.39008573 -0.46101975  0.48723984]] \n",
            "Biases:\n",
            " [ 0.4381569  -0.24956733 -0.23874368]\n"
          ]
        }
      ]
    },
    {
      "cell_type": "markdown",
      "source": [
        "## Evaluate model performance\n",
        "So, is the model any good? The raw accuracy reported from the validation data would seem to indicate that it predicts pretty well; but it's typically useful to dig a little deeper and compare the predictions for each possible class. A common way to visualize the performance of a classification model is to create a confusion matrix that shows a crosstab of correct and incorrect predictions for each class."
      ],
      "metadata": {
        "id": "aumCMeFTfaFo"
      }
    },
    {
      "cell_type": "code",
      "source": [
        "# Tensorflow doesn't have a built-in confusion matrix metric, so we'll use SciKit-Learn\n",
        "import numpy as np\n",
        "from sklearn.metrics import confusion_matrix\n",
        "import matplotlib.pyplot as plt\n",
        "%matplotlib inline\n",
        "\n",
        "\n",
        "class_probabilities = model.predict(x_test)\n",
        "predictions = np.argmax(class_probabilities, axis=1)\n",
        "true_labels = np.argmax(y_test, axis=1)\n",
        "\n",
        "# Plot the confusion matrix\n",
        "cm = confusion_matrix(true_labels, predictions)\n",
        "plt.imshow(cm, interpolation=\"nearest\", cmap=plt.cm.Blues)\n",
        "plt.colorbar()\n",
        "tick_marks = np.arange(len(penguin_classes))\n",
        "plt.xticks(tick_marks, penguin_classes, rotation=85)\n",
        "plt.yticks(tick_marks, penguin_classes)\n",
        "plt.xlabel(\"Predicted Species\")\n",
        "plt.ylabel(\"Actual Species\")\n",
        "plt.show()"
      ],
      "metadata": {
        "colab": {
          "base_uri": "https://localhost:8080/",
          "height": 335
        },
        "id": "0T7wP0uOfftP",
        "outputId": "bd7362c1-d6e7-4f4f-a787-3c10c15cfd9d"
      },
      "execution_count": null,
      "outputs": [
        {
          "output_type": "stream",
          "name": "stdout",
          "text": [
            "13/13 [==============================] - 0s 2ms/step\n"
          ]
        },
        {
          "output_type": "display_data",
          "data": {
            "text/plain": [
              "<Figure size 432x288 with 2 Axes>"
            ],
            "image/png": "[encoded data removed]"
          },
          "metadata": {
            "needs_background": "light"
          }
        }
      ]
    },
    {
      "cell_type": "markdown",
      "source": [
        "Save the trained model\n",
        "Now that we have a model we believe is reasonably accurate, we can save its trained weights for use later."
      ],
      "metadata": {
        "id": "po90zVZIfloB"
      }
    },
    {
      "cell_type": "code",
      "source": [
        "# Save the trained model\n",
        "modelFileName = 'models/penguin-classifier.h5'\n",
        "model.save(modelFileName)\n",
        "del model  # deletes the existing model variable\n",
        "print('model saved as', modelFileName)"
      ],
      "metadata": {
        "colab": {
          "base_uri": "https://localhost:8080/"
        },
        "id": "5r88eRgKfnrZ",
        "outputId": "22218092-5234-4618-fff7-b89c20137366"
      },
      "execution_count": null,
      "outputs": [
        {
          "output_type": "stream",
          "name": "stdout",
          "text": [
            "model saved as models/penguin-classifier.h5\n"
          ]
        }
      ]
    },
    {
      "cell_type": "markdown",
      "source": [
        "## Use the trained model\n",
        "When we have a new penguin observation, we can use the model to predict the species."
      ],
      "metadata": {
        "id": "i7rpsltOfqmo"
      }
    },
    {
      "cell_type": "code",
      "source": [
        "# Load the saved model\n",
        "model = models.load_model(modelFileName)\n",
        "\n",
        "# CReate a new array of features\n",
        "x_new = np.array([[50.4,15.3,20,50]])\n",
        "print ('New sample: {}'.format(x_new))\n",
        "\n",
        "# Use the model to predict the class\n",
        "class_probabilities = model.predict(x_new)\n",
        "predictions = np.argmax(class_probabilities, axis=1)\n",
        "\n",
        "print(penguin_classes[predictions[0]])"
      ],
      "metadata": {
        "colab": {
          "base_uri": "https://localhost:8080/"
        },
        "id": "ucl4orAkftzS",
        "outputId": "f0950b8e-625a-4c73-8d1e-27d77e024098"
      },
      "execution_count": null,
      "outputs": [
        {
          "output_type": "stream",
          "name": "stdout",
          "text": [
            "New sample: [[50.4 15.3 20.  50. ]]\n",
            "1/1 [==============================] - 0s 232ms/step\n",
            "Gentoo\n"
          ]
        }
      ]
    }
  ]
}